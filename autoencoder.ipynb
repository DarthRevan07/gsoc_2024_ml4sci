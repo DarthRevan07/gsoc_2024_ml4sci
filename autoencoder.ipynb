{
  "cells": [
    {
      "cell_type": "markdown",
      "id": "acd0c430",
      "metadata": {
        "id": "acd0c430"
      },
      "source": [
        "### Dataset consists of 4 keys ->\n",
        "\n",
        "1.) X_jets (Images with 3 channels, and size 125 * 125) <br>\n",
        "2.) m0 (Mass) <br>\n",
        "3.) pt (Transverse momentum) <br>\n",
        "4.) y (Labels) <br>\n",
        "\n",
        "In state-of-the-art Jet Image Taggers, 4-tuple"
      ]
    },
    {
      "cell_type": "markdown",
      "source": [
        "For this screening task, as asked I am constructing an Autoencoder (Variational) to act upon Jet Images"
      ],
      "metadata": {
        "id": "-UrEeJ04Su1m"
      },
      "id": "-UrEeJ04Su1m"
    },
    {
      "cell_type": "code",
      "execution_count": 1,
      "id": "uZ6b592ixMbx",
      "metadata": {
        "colab": {
          "base_uri": "https://localhost:8080/"
        },
        "id": "uZ6b592ixMbx",
        "outputId": "0ea1056a-79be-4328-8641-dcfccf241ad8"
      },
      "outputs": [
        {
          "output_type": "stream",
          "name": "stdout",
          "text": [
            "Mounted at /content/drive\n"
          ]
        }
      ],
      "source": [
        "from google.colab import drive\n",
        "drive.mount('/content/drive')"
      ]
    },
    {
      "cell_type": "code",
      "execution_count": 2,
      "id": "6542c4cf",
      "metadata": {
        "id": "6542c4cf"
      },
      "outputs": [],
      "source": [
        "import h5py\n",
        "import numpy as np\n",
        "filename = '/content/drive/MyDrive/quark-gluon_data-set_n139306.hdf5'\n",
        "\n",
        "def load_h5(file_name, size):\n",
        "    # Load the dataset from the HDF5 file\n",
        "    with h5py.File(file_name, 'r') as f:\n",
        "        print(\"The keys are : \", list(f.keys()))\n",
        "        print(\"The number of images in dataset : \", len(f['X_jets']))\n",
        "        print(\"Dimensions of image tensor : \", f['X_jets'].shape[1:])\n",
        "        X = np.array(f['X_jets'][:size])\n",
        "        y = np.array(f['y'][:size])\n",
        "    return X, y"
      ]
    },
    {
      "cell_type": "code",
      "execution_count": 3,
      "id": "2bfaaa09",
      "metadata": {
        "colab": {
          "base_uri": "https://localhost:8080/"
        },
        "id": "2bfaaa09",
        "outputId": "c1b8e56d-b7ac-450c-950b-a0a0ea9c1d3e"
      },
      "outputs": [
        {
          "output_type": "stream",
          "name": "stdout",
          "text": [
            "The keys are :  ['X_jets', 'm0', 'pt', 'y']\n",
            "The number of images in dataset :  139306\n",
            "Dimensions of image tensor :  (125, 125, 3)\n"
          ]
        }
      ],
      "source": [
        "X, y = load_h5(filename, 10000)"
      ]
    },
    {
      "cell_type": "code",
      "execution_count": 4,
      "id": "bb3174825a2b8ba3",
      "metadata": {
        "id": "bb3174825a2b8ba3"
      },
      "outputs": [],
      "source": [
        "def data_info_getter(X, y):\n",
        "\n",
        "    print(\"Max value of intensity along 1st channel : \", np.max(X[:,:,:,0]), \"   Min value : \", np.min(X[:,:,:,0]))\n",
        "    print(\"Mean intensity value along 1st channel : \", np.mean(X[:,:,:,0]))\n",
        "    print(\"Standard Deviation : \", np.std(X[:,:,:,0]), \"\\n\\n\")\n",
        "\n",
        "    print(\"Max value of intensity along 2nd channel : \", np.max(X[:,:,:,1]), \"   Min value : \", np.min(X[:,:,:,1]))\n",
        "    print(\"Mean intensity value along 2nd channel : \", np.mean(X[:,:,:,1]))\n",
        "    print(\"Standard Deviation : \", np.std(X[:,:,:,1]), \"\\n\\n\")\n",
        "\n",
        "\n",
        "    print(\"Max value of intensity along 3rd channel : \", np.max(X[:,:,2]), \"   Min value : \", np.min(X[:,:,:,2]))\n",
        "    print(\"Mean intensity value along 3rd channel : \", np.mean(X[:,:,:,2]))\n",
        "    print(\"Standard Deviation : \", np.std(X[:,:,:,2]), \"\\n\\n\")\n",
        "\n",
        "    combined_dataset = X[:,:,:,0] + X[:,:,:,1] + X[:,:,:,2]\n",
        "    combined_dataset = np.expand_dims(combined_dataset, axis= 3)\n",
        "\n",
        "    print(\"Max value of intensity in combined channel image : \", np.max(combined_dataset[:,:,:,0]), \"   Min value : \", np.min(combined_dataset[:,:,:,0]))\n",
        "    print(\"Mean intensity value in combined channel : \", np.mean(combined_dataset[:,:,:,0]))\n",
        "    print(\"Standard Deviation : \", np.std(combined_dataset[:,:,:,0]), \"\\n\\n\")\n",
        "    return"
      ]
    },
    {
      "cell_type": "code",
      "execution_count": 5,
      "id": "2cbe427034dc69b5",
      "metadata": {
        "colab": {
          "base_uri": "https://localhost:8080/"
        },
        "id": "2cbe427034dc69b5",
        "outputId": "f5d862e0-152b-4464-cf02-0e9443cf321f"
      },
      "outputs": [
        {
          "output_type": "stream",
          "name": "stdout",
          "text": [
            "Max value of intensity along 1st channel :  10.088105    Min value :  0.0\n",
            "Mean intensity value along 1st channel :  7.8410376e-05\n",
            "Standard Deviation :  0.0038757673 \n",
            "\n",
            "\n",
            "Max value of intensity along 2nd channel :  9.334086    Min value :  0.0\n",
            "Mean intensity value along 2nd channel :  4.9682043e-05\n",
            "Standard Deviation :  0.0021076745 \n",
            "\n",
            "\n",
            "Max value of intensity along 3rd channel :  0.24324848    Min value :  0.0\n",
            "Mean intensity value along 3rd channel :  3.119493e-05\n",
            "Standard Deviation :  0.00051332446 \n",
            "\n",
            "\n",
            "Max value of intensity in combined channel image :  12.1562605    Min value :  0.0\n",
            "Mean intensity value in combined channel :  0.0001592877\n",
            "Standard Deviation :  0.004635658 \n",
            "\n",
            "\n"
          ]
        }
      ],
      "source": [
        "data_info_getter(X,y)"
      ]
    },
    {
      "cell_type": "code",
      "execution_count": 6,
      "id": "053e9c8c",
      "metadata": {
        "id": "053e9c8c"
      },
      "outputs": [],
      "source": [
        "%matplotlib inline\n",
        "from PIL import Image\n",
        "import matplotlib.pyplot as plt\n",
        "\n",
        "\n",
        "#Plotting functions for the images -->\n",
        "\n",
        "def plot_fxn(X):\n",
        "\n",
        "    print(\"For the first image in the passed data batch -> \\n\")\n",
        "\n",
        "\n",
        "    X_sample = X[0]\n",
        "    print(\"For the first image among the batch passed : \")\n",
        "    print(\"Max value of intensity along 1st channel : \", np.max(X_sample[:,:,0]), \"   Min value : \", np.min(X_sample[:,:,0]))\n",
        "    print(\"Max value of intensity along 2nd channel : \", np.max(X_sample[:,:,1]), \"   Min value : \", np.min(X_sample[:,:,1]))\n",
        "    print(\"Max value of intensity along 3rd channel : \", np.max(X_sample[:,:,2]), \"   Min value : \", np.min(X_sample[:,:,2]))\n",
        "    og_plot = plt.imshow(X_sample)\n",
        "\n",
        "\n",
        "    fig, axs = plt.subplots(1, 3, figsize=(20, 20))\n",
        "\n",
        "    im1 = axs[0].imshow(X_sample[:,:,0], cmap='viridis', vmin=-0.5, vmax=2.0, interpolation='nearest')\n",
        "    axs[0].set_title('Track')\n",
        "\n",
        "    im2 = axs[1].imshow(X_sample[:, :, 1], cmap='viridis', vmin=-0.5, vmax=2.0, interpolation='nearest')\n",
        "    axs[1].set_title('ECAL')\n",
        "\n",
        "    im3 = axs[2].imshow(X_sample[:, :,2], cmap='viridis', vmin=-0.5, vmax=2.0, interpolation='nearest')\n",
        "    axs[2].set_title('HCAL')\n",
        "\n",
        "    # Add colorbars\n",
        "    fig.colorbar(im1, ax=axs[0], shrink=0.25)\n",
        "    fig.colorbar(im2, ax=axs[1], shrink=0.25)\n",
        "    fig.colorbar(im3, ax=axs[2], shrink=0.25)\n",
        "\n",
        "    plt.show()\n",
        "\n",
        "    return None"
      ]
    },
    {
      "cell_type": "markdown",
      "source": [
        "Plotting the given dataset, we realize that the intensity values (calorimeter hits) across all the channels (Track, ECAL, HCAL) vary highly, and that there is a need to perform data pre-processing - Namely, Normalization of intensity values and Standardization of the intensity distribution."
      ],
      "metadata": {
        "id": "ai3fmeB6VpDT"
      },
      "id": "ai3fmeB6VpDT"
    },
    {
      "cell_type": "code",
      "execution_count": 7,
      "id": "de40d128",
      "metadata": {
        "colab": {
          "base_uri": "https://localhost:8080/",
          "height": 968
        },
        "id": "de40d128",
        "outputId": "87c79de7-1deb-4cf6-b31a-07ac0528a40b"
      },
      "outputs": [
        {
          "output_type": "stream",
          "name": "stdout",
          "text": [
            "For the first image in the passed data batch -> \n",
            "\n",
            "For the first image among the batch passed : \n",
            "Max value of intensity along 1st channel :  0.24925861    Min value :  0.0\n",
            "Max value of intensity along 2nd channel :  0.1778053    Min value :  0.0\n",
            "Max value of intensity along 3rd channel :  0.0037489757    Min value :  0.0\n"
          ]
        },
        {
          "output_type": "display_data",
          "data": {
            "text/plain": [
              "<Figure size 640x480 with 1 Axes>"
            ],
            "image/png": "[encoded data removed]"
          },
          "metadata": {}
        },
        {
          "output_type": "display_data",
          "data": {
            "text/plain": [
              "<Figure size 2000x2000 with 6 Axes>"
            ],
            "image/png": "[encoded data removed]"
          },
          "metadata": {}
        }
      ],
      "source": [
        "plot_fxn(X)"
      ]
    },
    {
      "cell_type": "markdown",
      "id": "97a3fcd1",
      "metadata": {
        "id": "97a3fcd1"
      },
      "source": [
        "* The idea behind jet images is to treat the energy deposits in a calorimeter as intensities in a 2D image.\n",
        "* A jet image is formed by taking the constituents of a jet and discretizing its energy into pixels in (η,φ), with the intensity of each pixel given by the sum of the energy of all constituents of the jet inside that (η,φ) pixel.\n",
        "\n",
        "* The precise procedure followed for pre-processing of jet images involves rotations, re-pixelizations etc. I am building this Autoencoder while treating these jet images as a normal instance of classical images, hence I simply used the standard normalization and standardization processes as are used on images.\n",
        "\n",
        "* I assumed that the intricacies of data handling (being more theoretically motivated) are BEYOND THE SCOPE OF THIS EVALUATION TASK."
      ]
    },
    {
      "cell_type": "code",
      "execution_count": 8,
      "id": "47bc9dc1",
      "metadata": {
        "id": "47bc9dc1"
      },
      "outputs": [],
      "source": [
        "from skimage.transform import resize\n",
        "from sklearn.preprocessing import normalize\n",
        "\n",
        "def data_preprocess(X_jets):\n",
        "    #Normalizing the images\n",
        "\n",
        "    # Resizing images from (125, 125, 3) to (128, 128, 3)\n",
        "    resized_images = np.zeros((X_jets.shape[0], 128, 128, 3), dtype=np.float32)\n",
        "    for i in range(X_jets.shape[0]):\n",
        "        resized_images[i] = resize(X_jets[i], (128, 128), anti_aliasing=True)\n",
        "\n",
        "    X_jets = resized_images\n",
        "    del resized_images\n",
        "\n",
        "    # Standardizing the distribution across all channels\n",
        "    mean = np.mean(X_jets)\n",
        "    std = np.std(X_jets)\n",
        "    X_jets = (X_jets - mean) / std\n",
        "\n",
        "    # Clipping negative intensity values to 0...\n",
        "    X_jets = np.clip(X_jets, 0, None)\n",
        "    return X_jets"
      ]
    },
    {
      "cell_type": "markdown",
      "source": [
        "\n",
        "### Image Resizing\n",
        "\n",
        "The function `data_preprocess()` begins by resizing the input images. This resizing step is essential for standardizing the dimensions of all images in the dataset. In this case, the original images are of size (125, 125, 3), where 125x125 represents the width and height of the image, and 3 represents the number of channels (RGB). However, VAEs typically work with fixed-size inputs. Therefore, the images are resized to a common size of (128, 128, 3) using bilinear interpolation. This resizing ensures that all images have consistent dimensions, which is crucial for feeding them into the neural network model later.\n",
        "\n",
        "### Standardization\n",
        "\n",
        "After resizing, the function performs standardization on the images. Standardization involves transforming the data such that it has a mean of 0 and a standard deviation of 1 across each channel. This step helps in stabilizing the learning process by making the input data more amenable to optimization algorithms. By ensuring that the distribution of pixel intensities across different images is consistent, standardization can improve the convergence and performance of the VAE during training.\n",
        "\n",
        "### Clipping Negative Intensity Values\n",
        "\n",
        "Finally, the function clips any negative intensity values in the images to zero. This step is commonly performed in image processing tasks to ensure that all pixel values are within a valid range. Since negative pixel intensities do not make sense in the context of most image data, clipping them to zero helps in removing noise or inconsistencies in the dataset.\n"
      ],
      "metadata": {
        "id": "uCLzmf54fk3E"
      },
      "id": "uCLzmf54fk3E"
    },
    {
      "cell_type": "code",
      "execution_count": 9,
      "id": "13bf2175",
      "metadata": {
        "id": "13bf2175"
      },
      "outputs": [],
      "source": [
        "X_jets = data_preprocess(X)"
      ]
    },
    {
      "cell_type": "code",
      "execution_count": 10,
      "id": "4a8e2139d26b7ea5",
      "metadata": {
        "colab": {
          "base_uri": "https://localhost:8080/"
        },
        "id": "4a8e2139d26b7ea5",
        "outputId": "1a9f536a-bfb9-4aab-c392-d64a628225b5"
      },
      "outputs": [
        {
          "output_type": "stream",
          "name": "stdout",
          "text": [
            "Max value of intensity along 1st channel :  2362.628    Min value :  0.0\n",
            "Mean intensity value along 1st channel :  0.04981079\n",
            "Standard Deviation :  1.4279369 \n",
            "\n",
            "\n",
            "Max value of intensity along 2nd channel :  2024.9122    Min value :  0.0\n",
            "Mean intensity value along 2nd channel :  0.03096904\n",
            "Standard Deviation :  0.92825264 \n",
            "\n",
            "\n",
            "Max value of intensity along 3rd channel :  97.2833    Min value :  0.0\n",
            "Mean intensity value along 3rd channel :  0.018975094\n",
            "Standard Deviation :  0.30354062 \n",
            "\n",
            "\n",
            "Max value of intensity in combined channel image :  3176.8347    Min value :  0.0\n",
            "Mean intensity value in combined channel :  0.099754974\n",
            "Standard Deviation :  1.9071484 \n",
            "\n",
            "\n"
          ]
        }
      ],
      "source": [
        "data_info_getter(X_jets, y)"
      ]
    },
    {
      "cell_type": "markdown",
      "source": [
        "Note, in the following plot, we are yet to normalize each image channel-wise."
      ],
      "metadata": {
        "id": "Chgyj_lvj6X0"
      },
      "id": "Chgyj_lvj6X0"
    },
    {
      "cell_type": "code",
      "execution_count": 11,
      "id": "95937921",
      "metadata": {
        "colab": {
          "base_uri": "https://localhost:8080/",
          "height": 986
        },
        "id": "95937921",
        "outputId": "924d5a41-a2fb-4a4d-f0a7-9d5796570808"
      },
      "outputs": [
        {
          "output_type": "stream",
          "name": "stderr",
          "text": [
            "WARNING:matplotlib.image:Clipping input data to the valid range for imshow with RGB data ([0..1] for floats or [0..255] for integers).\n"
          ]
        },
        {
          "output_type": "stream",
          "name": "stdout",
          "text": [
            "For the first image in the passed data batch -> \n",
            "\n",
            "For the first image among the batch passed : \n",
            "Max value of intensity along 1st channel :  52.13446    Min value :  0.0\n",
            "Max value of intensity along 2nd channel :  59.500538    Min value :  0.0\n",
            "Max value of intensity along 3rd channel :  2.3792415    Min value :  0.0\n"
          ]
        },
        {
          "output_type": "display_data",
          "data": {
            "text/plain": [
              "<Figure size 640x480 with 1 Axes>"
            ],
            "image/png": "[encoded data removed]"
          },
          "metadata": {}
        },
        {
          "output_type": "display_data",
          "data": {
            "text/plain": [
              "<Figure size 2000x2000 with 6 Axes>"
            ],
            "image/png": "[encoded data removed]"
          },
          "metadata": {}
        }
      ],
      "source": [
        "plot_fxn(X_jets)"
      ]
    },
    {
      "cell_type": "markdown",
      "id": "63a53b0a",
      "metadata": {
        "id": "63a53b0a"
      },
      "source": [
        "Relevant data classes are `X_jets` and `y` ->\n",
        "\n",
        "Loading these datasets using standard PyTorch dataloader ->"
      ]
    },
    {
      "cell_type": "code",
      "execution_count": 12,
      "id": "e1aa6121",
      "metadata": {
        "id": "e1aa6121"
      },
      "outputs": [],
      "source": [
        "import torch\n",
        "import torch.nn as nn\n",
        "import torch.nn.functional as F\n",
        "import torch.optim as optim\n",
        "from torch.utils.data import DataLoader\n",
        "from torchvision import datasets, transforms"
      ]
    },
    {
      "cell_type": "code",
      "execution_count": 13,
      "id": "74c24567",
      "metadata": {
        "id": "74c24567"
      },
      "outputs": [],
      "source": [
        "from torch.distributions import Normal\n",
        "\n",
        "\n",
        "class Sampling(nn.Module):\n",
        "    def forward(self, z_mean, z_log_var):\n",
        "        # Get the shape of the tensor for the mean and log variance.\n",
        "        batch, dim = z_mean.shape\n",
        "        # Generate a normal random tensor (epsilon) with the same shape as z_mean\n",
        "        # This tensor will be used for reparameterization trick\n",
        "        epsilon = Normal(0, 1).sample((batch, dim)).to(z_mean.device)\n",
        "        # Apply the reparameterization trick to generate the samples in the\n",
        "        # latent space\n",
        "        return z_mean + torch.exp(0.5 * z_log_var) * epsilon"
      ]
    },
    {
      "cell_type": "code",
      "execution_count": 14,
      "id": "4fe311ee",
      "metadata": {
        "id": "4fe311ee"
      },
      "outputs": [],
      "source": [
        "\n",
        "# Define the Encoder\n",
        "class Encoder(nn.Module):\n",
        "    def __init__(self, embedding_dim):\n",
        "        super(Encoder, self).__init__()\n",
        "        self.conv1 = nn.Conv2d(3, 64, kernel_size=3, stride=2, padding=1)\n",
        "        self.bn1 = nn.BatchNorm2d(64)\n",
        "        self.conv2 = nn.Conv2d(64, 128, kernel_size=3, stride=2, padding=1)\n",
        "        self.bn2 = nn.BatchNorm2d(128)\n",
        "        self.conv3 = nn.Conv2d(128, 256, kernel_size=3, stride=2, padding=1)\n",
        "        self.bn3 = nn.BatchNorm2d(256)\n",
        "        self.conv4 = nn.Conv2d(256, 512, kernel_size=3, stride=2, padding=1)\n",
        "        self.bn4 = nn.BatchNorm2d(512)\n",
        "        self.sampling = Sampling()\n",
        "        # Calculate the size of the flattened tensor\n",
        "        # Assuming the image size is 128x128\n",
        "        # After the first conv layer: 64x64\n",
        "        # After the second conv layer: 32x32\n",
        "        # After the third conv layer: 16x16\n",
        "        # After the fourth conv layer: 8x8\n",
        "        # Flattened size: 8*8*512 = 32768\n",
        "        self.fc_mu = nn.Linear(32768, embedding_dim)\n",
        "        self.fc_logvar = nn.Linear(32768, embedding_dim)\n",
        "\n",
        "    def forward(self, x):\n",
        "\n",
        "#        print(x.shape)\n",
        "        # Assuming `x` is the input tensor with dimensions (N, H, W, C)\n",
        "#        x = x.permute(0, 3, 1, 2) # Permute to (N, C, H, W)\n",
        "\n",
        "        # Apply the convolutional layers with batch normalization\n",
        "        x = self.bn1(self.conv1(x))\n",
        "        x = nn.LeakyReLU(0.2)(x)\n",
        "        x = self.bn2(self.conv2(x))\n",
        "        x = nn.LeakyReLU(0.2)(x)\n",
        "        x = self.bn3(self.conv3(x))\n",
        "        x = nn.LeakyReLU(0.2)(x)\n",
        "        x = self.bn4(self.conv4(x))\n",
        "        x = nn.LeakyReLU(0.2)(x)\n",
        "\n",
        "        # With this line\n",
        "        x = x.reshape(x.size(0), -1)\n",
        "\n",
        "        # Apply the fully connected layers to get the mean and log variance\n",
        "        mu = self.fc_mu(x)\n",
        "        logvar = self.fc_logvar(x)\n",
        "\n",
        "        # Sample a latent vector using reparameterization trick\n",
        "        z = self.sampling(mu, logvar)\n",
        "\n",
        "        return mu, logvar, z\n",
        "\n",
        "\n",
        "# class Encoder(nn.Module):\n",
        "#     def __init__(self, latent_dim, img_size):\n",
        "#         super(Encoder, self).__init__()\n",
        "#\n",
        "#         self.latent_dim = latent_dim\n",
        "#         self.img_size = img_size\n",
        "#         self.channels = 3\n",
        "#\n",
        "#         self.conv1 =  nn.Conv2d(3, 32, kernel_size=3, stride=2, padding=1)\n",
        "#         self.conv2 = nn.Conv2d(32, 64, kernel_size=3, stride=2, padding=1)\n",
        "#         self.conv3 = nn.Conv2d(64, 128, kernel_size=3, stride=2, padding=1)\n",
        "#     #    self.conv4 = nn.Conv2d(128, 256, kernel_size = 3, stride = 2, padding = 1)\n",
        "#         self.flatten = nn.Flatten()\n",
        "#\n",
        "#         # Parameters for the latent space\n",
        "#         self.fc_mean = nn.Linear(128 * (img_size//8) * (img_size//8), latent_dim)\n",
        "#         self.fc_log_var = nn.Linear(128 * (img_size//8) * (img_size//8), latent_dim)\n",
        "#\n",
        "#         # Initializing the sampling layer as well,\n",
        "#         self.sampling = Sampling()\n",
        "#"
      ]
    },
    {
      "cell_type": "code",
      "execution_count": 15,
      "id": "1db4961e",
      "metadata": {
        "id": "1db4961e"
      },
      "outputs": [],
      "source": [
        "# Decoder\n",
        "import torch.nn.functional as F\n",
        "\n",
        "import torch\n",
        "import torch.nn as nn\n",
        "\n",
        "class Decoder(nn.Module):\n",
        "    def __init__(self, embedding_dim):\n",
        "        super(Decoder, self).__init__()\n",
        "\n",
        "        # Fully connected layer to map the latent vector back to the size of the flattened tensor\n",
        "        self.fc = nn.Linear(embedding_dim, 32768)\n",
        "\n",
        "        # Transposed convolutional layers to upscale the tensor\n",
        "        self.deconv1 = nn.ConvTranspose2d(512, 256, kernel_size=3, stride=2, padding=1, output_padding=1)\n",
        "        self.bn1 = nn.BatchNorm2d(256)\n",
        "        self.deconv2 = nn.ConvTranspose2d(256, 128, kernel_size=3, stride=2, padding=1, output_padding=1)\n",
        "        self.bn2 = nn.BatchNorm2d(128)\n",
        "        self.deconv3 = nn.ConvTranspose2d(128, 64, kernel_size=3, stride=2, padding=1, output_padding=1)\n",
        "        self.bn3 = nn.BatchNorm2d(64)\n",
        "        self.deconv4 = nn.ConvTranspose2d(64, 3, kernel_size=3, stride=2, padding=1, output_padding=1)\n",
        "\n",
        "        # Final activation function\n",
        "        self.tanh = nn.Tanh()\n",
        "\n",
        "    def forward(self, z):\n",
        "        # Fully connected layer\n",
        "        x = self.fc(z)\n",
        "        x = x.view(z.size(0), 512, 8, 8)\n",
        "\n",
        "        # Transposed convolutional layers\n",
        "        x = self.bn1(self.deconv1(x))\n",
        "        x = nn.LeakyReLU(0.2)(x)\n",
        "        x = self.bn2(self.deconv2(x))\n",
        "        x = nn.LeakyReLU(0.2)(x)\n",
        "        x = self.bn3(self.deconv3(x))\n",
        "        x = nn.LeakyReLU(0.2)(x)\n",
        "        x = self.deconv4(x)\n",
        "\n",
        "        # Final activation\n",
        "        x = (self.tanh(x) + 1)/2.\n",
        "\n",
        "        return x\n",
        "\n",
        "#     def forward(self, x):\n",
        "#         # Pass the latent vector through the fully connected layer\n",
        "#         x = self.fc(x)\n",
        "#         # Reshape the tensor\n",
        "#         x = self.reshape(x)\n",
        "#         # Apply transposed convolutional layers with relu activation function\n",
        "# #        x = F.relu(self.deconv1(x))\n",
        "#         x = F.relu(self.deconv2(x))\n",
        "#         x = F.relu(self.deconv3(x))\n",
        "#         # Apply the final transposed convolutional layer with a sigmoid\n",
        "#         # activation to generate the final output\n",
        "#         x = 0.5 * (torch.sigmoid(self.deconv4(x)) + 1)\n",
        "#\n",
        "#\n",
        "#         return x"
      ]
    },
    {
      "cell_type": "code",
      "execution_count": 16,
      "id": "4-NZ9vRxAZEr",
      "metadata": {
        "id": "4-NZ9vRxAZEr"
      },
      "outputs": [],
      "source": [
        "#!pip install pytorch-lightning"
      ]
    },
    {
      "cell_type": "code",
      "execution_count": 17,
      "id": "f7505164",
      "metadata": {
        "id": "f7505164"
      },
      "outputs": [],
      "source": [
        "\n",
        "#import pytorch_lightning as pl\n",
        "import torch\n",
        "import torch.nn as nn\n",
        "import torch.nn.functional as F\n",
        "\n",
        "class VAE(nn.Module):\n",
        "    def __init__(self, embedding_dim):\n",
        "        super(VAE, self).__init__()\n",
        "        self.encoder = Encoder(embedding_dim)\n",
        "        self.decoder = Decoder(embedding_dim)\n",
        "\n",
        "    def forward(self, x):\n",
        "        mu, logvar, z = self.encoder(x)\n",
        "        x_reconstructed = self.decoder(z)\n",
        "        return x_reconstructed, mu, logvar\n",
        "\n",
        "    def vae_gaussian_kl_loss(self, mu, logvar):\n",
        "        KLD = -0.5 * torch.sum(1 + logvar - mu.pow(2) - logvar.exp(), dim=1)\n",
        "        return KLD.mean()\n",
        "\n",
        "    def reconstruction_loss(self, x_reconstructed, x):\n",
        "        bce_loss = nn.BCELoss()\n",
        "        return bce_loss(x_reconstructed, x)\n",
        "\n",
        "    def vae_loss(self, x_reconstructed, x, mu, logvar):\n",
        "        recon_loss = self.reconstruction_loss(x_reconstructed, x)\n",
        "        kld_loss = self.vae_gaussian_kl_loss(mu, logvar)\n",
        "        return 500 * recon_loss + kld_loss\n"
      ]
    },
    {
      "cell_type": "code",
      "execution_count": 18,
      "id": "4f400b38",
      "metadata": {
        "id": "4f400b38"
      },
      "outputs": [],
      "source": [
        "# # Define loss function\n",
        "# #KL Divergence is computed between the learned latent variable distribution and a standard normal distribution.\n",
        "# def vae_gaussian_kl_loss(mu, logvar):\n",
        "#     # see Appendix B from VAE paper:\n",
        "#     # Kingma and Welling. Auto-Encoding Variational Bayes. ICLR, 2014\n",
        "#     # https://arxiv.org/abs/1312.6114\n",
        "#     KLD = -0.5 * torch.sum(1 + logvar - mu.pow(2) - logvar.exp(), dim=1)\n",
        "#     return KLD.mean()\n",
        "#\n",
        "# def reconstruction_loss(x_reconstructed, x):\n",
        "#     bce_loss = nn.BCELoss()\n",
        "#     return bce_loss(x_reconstructed, x)\n",
        "#\n",
        "#\n",
        "# def vae_loss(y_pred, y_true):\n",
        "#     mu, logvar, recon_x = y_pred\n",
        "#     recon_loss = reconstruction_loss(recon_x, y_true)\n",
        "#     kld_loss = vae_gaussian_kl_loss(mu, logvar)\n",
        "#     return 500 * recon_loss + kld_loss\n",
        "# # def vae_loss(reconstructed, original, mu, log_var):\n",
        "# #     reconstruction_loss = F.binary_cross_entropy(reconstructed, original, reduction='sum')\n",
        "# #     kl_divergence = -0.5 * torch.sum(1 + log_var - mu.pow(2) - log_var.exp())\n",
        "# #     return reconstruction_loss + kl_divergence"
      ]
    },
    {
      "cell_type": "code",
      "execution_count": 19,
      "id": "e45a391c19800d5e",
      "metadata": {
        "id": "e45a391c19800d5e"
      },
      "outputs": [],
      "source": [
        "trackMax = np.max(X_jets[:,:,:,0])\n",
        "ecalMax = np.max(X_jets[:,:,:,1])\n",
        "hcalMax = np.max(X_jets[:,:,:,2])\n",
        "\n",
        "\n",
        "X_jets[:,:,:,0] = X_jets[:,:,:,0]/trackMax\n",
        "X_jets[:,:,:,1] = X_jets[:,:,:,1]/ecalMax\n",
        "X_jets[:,:,:,2] = X_jets[:,:,:,2]/hcalMax"
      ]
    },
    {
      "cell_type": "code",
      "execution_count": 20,
      "id": "2cd311e117d1c195",
      "metadata": {
        "colab": {
          "base_uri": "https://localhost:8080/"
        },
        "id": "2cd311e117d1c195",
        "outputId": "5af7bda0-e909-44e5-f135-771895c33db3"
      },
      "outputs": [
        {
          "output_type": "stream",
          "name": "stdout",
          "text": [
            "Max value of intensity along 1st channel :  1.0    Min value :  0.0\n",
            "Mean intensity value along 1st channel :  2.1082873e-05\n",
            "Standard Deviation :  0.00060438446 \n",
            "\n",
            "\n",
            "Max value of intensity along 2nd channel :  1.0    Min value :  0.0\n",
            "Mean intensity value along 2nd channel :  1.5294063e-05\n",
            "Standard Deviation :  0.00045841653 \n",
            "\n",
            "\n",
            "Max value of intensity along 3rd channel :  0.041175887    Min value :  0.0\n",
            "Mean intensity value along 3rd channel :  8.1936e-05\n",
            "Standard Deviation :  0.0013107107 \n",
            "\n",
            "\n",
            "Max value of intensity in combined channel image :  1.6550479    Min value :  0.0\n",
            "Mean intensity value in combined channel :  0.00011831272\n",
            "Standard Deviation :  0.0016820171 \n",
            "\n",
            "\n"
          ]
        }
      ],
      "source": [
        "data_info_getter(X_jets, y)"
      ]
    },
    {
      "cell_type": "code",
      "execution_count": 21,
      "id": "53a9cc28b27b4753",
      "metadata": {
        "id": "53a9cc28b27b4753"
      },
      "outputs": [],
      "source": [
        "from sklearn.model_selection import train_test_split\n",
        "\n",
        "# Assuming X_jets is your dataset and y are the labels\n",
        "X_jets_train, X_jets_test, y_train, y_test = train_test_split(X_jets, y, test_size=0.3, random_state=42)\n",
        "X_jets_train, X_jets_val, y_train, y_val = train_test_split(X_jets_train, y_train, test_size=0.25, random_state=42)"
      ]
    },
    {
      "cell_type": "code",
      "execution_count": 22,
      "id": "e60b1d1358192aab",
      "metadata": {
        "id": "e60b1d1358192aab"
      },
      "outputs": [],
      "source": [
        "import torch\n",
        "from torch.utils.data import Dataset\n",
        "\n",
        "class JetDataset(Dataset):\n",
        "    def __init__(self, X, y):\n",
        "        self.X = X\n",
        "        self.y = y\n",
        "\n",
        "    def __getitem__(self, index):\n",
        "        # X is in the format (h, w, channels)\n",
        "        # Permute the dimensions to (channels, h, w)\n",
        "        image = self.X[index].permute(2, 0, 1)\n",
        "        return image, self.y[index]\n",
        "\n",
        "    def __len__(self):\n",
        "        return len(self.X)\n",
        "\n",
        "# Convert your data to PyTorch tensors\n",
        "train_dataset = JetDataset(torch.from_numpy(X_jets_train), torch.from_numpy(y_train))\n",
        "val_dataset = JetDataset(torch.from_numpy(X_jets_val), torch.from_numpy(y_val))\n",
        "test_dataset = JetDataset(torch.from_numpy(X_jets_test), torch.from_numpy(y_test))"
      ]
    },
    {
      "cell_type": "code",
      "execution_count": 23,
      "id": "bd64347f9f786043",
      "metadata": {
        "id": "bd64347f9f786043"
      },
      "outputs": [],
      "source": [
        "from tqdm import tqdm"
      ]
    },
    {
      "cell_type": "code",
      "execution_count": 24,
      "id": "rNs3WHNOMaZq",
      "metadata": {
        "colab": {
          "base_uri": "https://localhost:8080/"
        },
        "id": "rNs3WHNOMaZq",
        "outputId": "b68fa24a-2194-4c3b-e747-75c71126bf63"
      },
      "outputs": [
        {
          "output_type": "execute_result",
          "data": {
            "text/plain": [
              "True"
            ]
          },
          "metadata": {},
          "execution_count": 24
        }
      ],
      "source": [
        "torch.cuda.is_available()"
      ]
    },
    {
      "cell_type": "code",
      "execution_count": 25,
      "id": "6c77d8d90b05f95",
      "metadata": {
        "colab": {
          "base_uri": "https://localhost:8080/"
        },
        "id": "6c77d8d90b05f95",
        "outputId": "6925d71f-7ce8-4870-a99e-5976e038ee73"
      },
      "outputs": [
        {
          "output_type": "stream",
          "name": "stderr",
          "text": [
            "Epoch 0: 100%|██████████| 42/42 [00:13<00:00,  3.09it/s]\n"
          ]
        },
        {
          "output_type": "stream",
          "name": "stdout",
          "text": [
            "Epoch: 1, Train Loss: 1517.307880219959, Val Loss: 706.8497576032366\n"
          ]
        },
        {
          "output_type": "stream",
          "name": "stderr",
          "text": [
            "Epoch 1: 100%|██████████| 42/42 [00:11<00:00,  3.61it/s]\n"
          ]
        },
        {
          "output_type": "stream",
          "name": "stdout",
          "text": [
            "Epoch: 2, Train Loss: 100368.12159801665, Val Loss: 629.3060259137835\n"
          ]
        },
        {
          "output_type": "stream",
          "name": "stderr",
          "text": [
            "Epoch 2: 100%|██████████| 42/42 [00:11<00:00,  3.60it/s]\n"
          ]
        },
        {
          "output_type": "stream",
          "name": "stdout",
          "text": [
            "Epoch: 3, Train Loss: 1310.230221702939, Val Loss: 539.3781651088169\n"
          ]
        },
        {
          "output_type": "stream",
          "name": "stderr",
          "text": [
            "Epoch 3: 100%|██████████| 42/42 [00:11<00:00,  3.59it/s]\n"
          ]
        },
        {
          "output_type": "stream",
          "name": "stdout",
          "text": [
            "Epoch: 4, Train Loss: 2196405.9934874037, Val Loss: 1243.2036917550224\n"
          ]
        },
        {
          "output_type": "stream",
          "name": "stderr",
          "text": [
            "Epoch 4: 100%|██████████| 42/42 [00:11<00:00,  3.56it/s]\n"
          ]
        },
        {
          "output_type": "stream",
          "name": "stdout",
          "text": [
            "Epoch: 5, Train Loss: 480.47375342959447, Val Loss: 641.8767569405692\n"
          ]
        },
        {
          "output_type": "stream",
          "name": "stderr",
          "text": [
            "Epoch 5: 100%|██████████| 42/42 [00:12<00:00,  3.49it/s]\n"
          ]
        },
        {
          "output_type": "stream",
          "name": "stdout",
          "text": [
            "Epoch: 6, Train Loss: 401.89897591727123, Val Loss: 381.74291556222096\n"
          ]
        },
        {
          "output_type": "stream",
          "name": "stderr",
          "text": [
            "Epoch 6: 100%|██████████| 42/42 [00:11<00:00,  3.51it/s]\n"
          ]
        },
        {
          "output_type": "stream",
          "name": "stdout",
          "text": [
            "Epoch: 7, Train Loss: 354.28039986746654, Val Loss: 329.06580897739957\n"
          ]
        },
        {
          "output_type": "stream",
          "name": "stderr",
          "text": [
            "Epoch 7: 100%|██████████| 42/42 [00:12<00:00,  3.47it/s]\n"
          ]
        },
        {
          "output_type": "stream",
          "name": "stdout",
          "text": [
            "Epoch: 8, Train Loss: 317.18683951241627, Val Loss: 296.14515904017856\n"
          ]
        },
        {
          "output_type": "stream",
          "name": "stderr",
          "text": [
            "Epoch 8: 100%|██████████| 42/42 [00:12<00:00,  3.35it/s]\n"
          ]
        },
        {
          "output_type": "stream",
          "name": "stdout",
          "text": [
            "Epoch: 9, Train Loss: 285.77979460216704, Val Loss: 267.812986101423\n"
          ]
        },
        {
          "output_type": "stream",
          "name": "stderr",
          "text": [
            "Epoch 9: 100%|██████████| 42/42 [00:12<00:00,  3.38it/s]\n"
          ]
        },
        {
          "output_type": "stream",
          "name": "stdout",
          "text": [
            "Epoch: 10, Train Loss: 258.50159635997954, Val Loss: 242.91566794259208\n"
          ]
        },
        {
          "output_type": "stream",
          "name": "stderr",
          "text": [
            "Epoch 10: 100%|██████████| 42/42 [00:12<00:00,  3.35it/s]\n"
          ]
        },
        {
          "output_type": "stream",
          "name": "stdout",
          "text": [
            "Epoch: 11, Train Loss: 234.66242072695778, Val Loss: 220.61823381696428\n"
          ]
        },
        {
          "output_type": "stream",
          "name": "stderr",
          "text": [
            "Epoch 11: 100%|██████████| 42/42 [00:12<00:00,  3.39it/s]\n"
          ]
        },
        {
          "output_type": "stream",
          "name": "stdout",
          "text": [
            "Epoch: 12, Train Loss: 213.73625946044922, Val Loss: 201.5021198817662\n"
          ]
        },
        {
          "output_type": "stream",
          "name": "stderr",
          "text": [
            "Epoch 12: 100%|██████████| 42/42 [00:12<00:00,  3.41it/s]\n"
          ]
        },
        {
          "output_type": "stream",
          "name": "stdout",
          "text": [
            "Epoch: 13, Train Loss: 195.18009549095518, Val Loss: 184.05130767822266\n"
          ]
        },
        {
          "output_type": "stream",
          "name": "stderr",
          "text": [
            "Epoch 13: 100%|██████████| 42/42 [00:12<00:00,  3.42it/s]\n"
          ]
        },
        {
          "output_type": "stream",
          "name": "stdout",
          "text": [
            "Epoch: 14, Train Loss: 178.73256174723306, Val Loss: 169.10850742885046\n"
          ]
        },
        {
          "output_type": "stream",
          "name": "stderr",
          "text": [
            "Epoch 14: 100%|██████████| 42/42 [00:12<00:00,  3.41it/s]\n"
          ]
        },
        {
          "output_type": "stream",
          "name": "stdout",
          "text": [
            "Epoch: 15, Train Loss: 164.1757787068685, Val Loss: 155.31002044677734\n"
          ]
        },
        {
          "output_type": "stream",
          "name": "stderr",
          "text": [
            "Epoch 15: 100%|██████████| 42/42 [00:12<00:00,  3.40it/s]\n"
          ]
        },
        {
          "output_type": "stream",
          "name": "stdout",
          "text": [
            "Epoch: 16, Train Loss: 151.2581031436012, Val Loss: 143.69250270298548\n"
          ]
        },
        {
          "output_type": "stream",
          "name": "stderr",
          "text": [
            "Epoch 16: 100%|██████████| 42/42 [00:12<00:00,  3.37it/s]\n"
          ]
        },
        {
          "output_type": "stream",
          "name": "stdout",
          "text": [
            "Epoch: 17, Train Loss: 139.90029126121885, Val Loss: 132.94635336739677\n"
          ]
        },
        {
          "output_type": "stream",
          "name": "stderr",
          "text": [
            "Epoch 17: 100%|██████████| 42/42 [00:12<00:00,  3.35it/s]\n"
          ]
        },
        {
          "output_type": "stream",
          "name": "stdout",
          "text": [
            "Epoch: 18, Train Loss: 129.77661968412855, Val Loss: 123.64188929966518\n"
          ]
        },
        {
          "output_type": "stream",
          "name": "stderr",
          "text": [
            "Epoch 18: 100%|██████████| 42/42 [00:12<00:00,  3.38it/s]\n"
          ]
        },
        {
          "output_type": "stream",
          "name": "stdout",
          "text": [
            "Epoch: 19, Train Loss: 120.95669937133789, Val Loss: 115.40678296770368\n"
          ]
        },
        {
          "output_type": "stream",
          "name": "stderr",
          "text": [
            "Epoch 19: 100%|██████████| 42/42 [00:12<00:00,  3.39it/s]\n"
          ]
        },
        {
          "output_type": "stream",
          "name": "stdout",
          "text": [
            "Epoch: 20, Train Loss: 113.12313552129837, Val Loss: 108.27248055594308\n"
          ]
        },
        {
          "output_type": "stream",
          "name": "stderr",
          "text": [
            "Epoch 20: 100%|██████████| 42/42 [00:12<00:00,  3.39it/s]\n"
          ]
        },
        {
          "output_type": "stream",
          "name": "stdout",
          "text": [
            "Epoch: 21, Train Loss: 106.34064556303478, Val Loss: 102.16236822945731\n"
          ]
        },
        {
          "output_type": "stream",
          "name": "stderr",
          "text": [
            "Epoch 21: 100%|██████████| 42/42 [00:12<00:00,  3.33it/s]\n"
          ]
        },
        {
          "output_type": "stream",
          "name": "stdout",
          "text": [
            "Epoch: 22, Train Loss: 100.39103135608491, Val Loss: 96.85812813895089\n"
          ]
        },
        {
          "output_type": "stream",
          "name": "stderr",
          "text": [
            "Epoch 22: 100%|██████████| 42/42 [00:12<00:00,  3.38it/s]\n"
          ]
        },
        {
          "output_type": "stream",
          "name": "stdout",
          "text": [
            "Epoch: 23, Train Loss: 95.3472649710519, Val Loss: 92.24630083356585\n"
          ]
        },
        {
          "output_type": "stream",
          "name": "stderr",
          "text": [
            "Epoch 23: 100%|██████████| 42/42 [00:12<00:00,  3.38it/s]\n"
          ]
        },
        {
          "output_type": "stream",
          "name": "stdout",
          "text": [
            "Epoch: 24, Train Loss: 90.93552344185966, Val Loss: 88.48523221697126\n"
          ]
        },
        {
          "output_type": "stream",
          "name": "stderr",
          "text": [
            "Epoch 24: 100%|██████████| 42/42 [00:12<00:00,  3.38it/s]\n"
          ]
        },
        {
          "output_type": "stream",
          "name": "stdout",
          "text": [
            "Epoch: 25, Train Loss: 87.1621813092913, Val Loss: 85.07380512782505\n"
          ]
        },
        {
          "output_type": "stream",
          "name": "stderr",
          "text": [
            "Epoch 25: 100%|██████████| 42/42 [00:12<00:00,  3.38it/s]\n"
          ]
        },
        {
          "output_type": "stream",
          "name": "stdout",
          "text": [
            "Epoch: 26, Train Loss: 83.69492721557617, Val Loss: 81.8027697971889\n"
          ]
        },
        {
          "output_type": "stream",
          "name": "stderr",
          "text": [
            "Epoch 26: 100%|██████████| 42/42 [00:12<00:00,  3.38it/s]\n"
          ]
        },
        {
          "output_type": "stream",
          "name": "stdout",
          "text": [
            "Epoch: 27, Train Loss: 80.57647913978214, Val Loss: 79.01174926757812\n"
          ]
        },
        {
          "output_type": "stream",
          "name": "stderr",
          "text": [
            "Epoch 27: 100%|██████████| 42/42 [00:12<00:00,  3.37it/s]\n"
          ]
        },
        {
          "output_type": "stream",
          "name": "stdout",
          "text": [
            "Epoch: 28, Train Loss: 77.58835002354213, Val Loss: 76.24156134469169\n"
          ]
        },
        {
          "output_type": "stream",
          "name": "stderr",
          "text": [
            "Epoch 28: 100%|██████████| 42/42 [00:12<00:00,  3.38it/s]\n"
          ]
        },
        {
          "output_type": "stream",
          "name": "stdout",
          "text": [
            "Epoch: 29, Train Loss: 74.94690740676154, Val Loss: 73.93984821864537\n"
          ]
        },
        {
          "output_type": "stream",
          "name": "stderr",
          "text": [
            "Epoch 29: 100%|██████████| 42/42 [00:12<00:00,  3.33it/s]\n"
          ]
        },
        {
          "output_type": "stream",
          "name": "stdout",
          "text": [
            "Epoch: 30, Train Loss: 72.31482796441941, Val Loss: 71.30298233032227\n"
          ]
        },
        {
          "output_type": "stream",
          "name": "stderr",
          "text": [
            "Epoch 30: 100%|██████████| 42/42 [00:12<00:00,  3.37it/s]\n"
          ]
        },
        {
          "output_type": "stream",
          "name": "stdout",
          "text": [
            "Epoch: 31, Train Loss: 69.92762765430268, Val Loss: 69.0817505972726\n"
          ]
        },
        {
          "output_type": "stream",
          "name": "stderr",
          "text": [
            "Epoch 31: 100%|██████████| 42/42 [00:12<00:00,  3.37it/s]\n"
          ]
        },
        {
          "output_type": "stream",
          "name": "stdout",
          "text": [
            "Epoch: 32, Train Loss: 67.5577593303862, Val Loss: 66.59993198939732\n"
          ]
        },
        {
          "output_type": "stream",
          "name": "stderr",
          "text": [
            "Epoch 32: 100%|██████████| 42/42 [00:12<00:00,  3.39it/s]\n"
          ]
        },
        {
          "output_type": "stream",
          "name": "stdout",
          "text": [
            "Epoch: 33, Train Loss: 65.40548333667573, Val Loss: 64.55597387041364\n"
          ]
        },
        {
          "output_type": "stream",
          "name": "stderr",
          "text": [
            "Epoch 33: 100%|██████████| 42/42 [00:12<00:00,  3.37it/s]\n"
          ]
        },
        {
          "output_type": "stream",
          "name": "stdout",
          "text": [
            "Epoch: 34, Train Loss: 63.25942121233259, Val Loss: 62.29562268938337\n"
          ]
        },
        {
          "output_type": "stream",
          "name": "stderr",
          "text": [
            "Epoch 34: 100%|██████████| 42/42 [00:12<00:00,  3.38it/s]\n"
          ]
        },
        {
          "output_type": "stream",
          "name": "stdout",
          "text": [
            "Epoch: 35, Train Loss: 61.33881995791481, Val Loss: 60.518113817487446\n"
          ]
        },
        {
          "output_type": "stream",
          "name": "stderr",
          "text": [
            "Epoch 35: 100%|██████████| 42/42 [00:12<00:00,  3.38it/s]\n"
          ]
        },
        {
          "output_type": "stream",
          "name": "stdout",
          "text": [
            "Epoch: 36, Train Loss: 59.64799054463705, Val Loss: 58.71319716317313\n"
          ]
        },
        {
          "output_type": "stream",
          "name": "stderr",
          "text": [
            "Epoch 36: 100%|██████████| 42/42 [00:12<00:00,  3.38it/s]\n"
          ]
        },
        {
          "output_type": "stream",
          "name": "stdout",
          "text": [
            "Epoch: 37, Train Loss: 58.20131356375558, Val Loss: 57.283232825142996\n"
          ]
        },
        {
          "output_type": "stream",
          "name": "stderr",
          "text": [
            "Epoch 37: 100%|██████████| 42/42 [00:12<00:00,  3.36it/s]\n"
          ]
        },
        {
          "output_type": "stream",
          "name": "stdout",
          "text": [
            "Epoch: 38, Train Loss: 56.866356259300595, Val Loss: 55.717127663748606\n"
          ]
        },
        {
          "output_type": "stream",
          "name": "stderr",
          "text": [
            "Epoch 38: 100%|██████████| 42/42 [00:12<00:00,  3.33it/s]\n"
          ]
        },
        {
          "output_type": "stream",
          "name": "stdout",
          "text": [
            "Epoch: 39, Train Loss: 55.75938488188244, Val Loss: 54.61871828351702\n"
          ]
        },
        {
          "output_type": "stream",
          "name": "stderr",
          "text": [
            "Epoch 39: 100%|██████████| 42/42 [00:12<00:00,  3.38it/s]\n"
          ]
        },
        {
          "output_type": "stream",
          "name": "stdout",
          "text": [
            "Epoch: 40, Train Loss: 54.87851787748791, Val Loss: 53.4486266544887\n"
          ]
        },
        {
          "output_type": "stream",
          "name": "stderr",
          "text": [
            "Epoch 40: 100%|██████████| 42/42 [00:12<00:00,  3.38it/s]\n"
          ]
        },
        {
          "output_type": "stream",
          "name": "stdout",
          "text": [
            "Epoch: 41, Train Loss: 54.165476571945916, Val Loss: 52.66240555899484\n"
          ]
        },
        {
          "output_type": "stream",
          "name": "stderr",
          "text": [
            "Epoch 41: 100%|██████████| 42/42 [00:12<00:00,  3.40it/s]\n"
          ]
        },
        {
          "output_type": "stream",
          "name": "stdout",
          "text": [
            "Epoch: 42, Train Loss: 53.53860110328311, Val Loss: 51.64766992841448\n"
          ]
        },
        {
          "output_type": "stream",
          "name": "stderr",
          "text": [
            "Epoch 42: 100%|██████████| 42/42 [00:12<00:00,  3.40it/s]\n"
          ]
        },
        {
          "output_type": "stream",
          "name": "stdout",
          "text": [
            "Epoch: 43, Train Loss: 53.000464212326776, Val Loss: 50.94170406886509\n"
          ]
        },
        {
          "output_type": "stream",
          "name": "stderr",
          "text": [
            "Epoch 43: 100%|██████████| 42/42 [00:12<00:00,  3.40it/s]\n"
          ]
        },
        {
          "output_type": "stream",
          "name": "stdout",
          "text": [
            "Epoch: 44, Train Loss: 52.4491351445516, Val Loss: 50.06640842982701\n"
          ]
        },
        {
          "output_type": "stream",
          "name": "stderr",
          "text": [
            "Epoch 44: 100%|██████████| 42/42 [00:12<00:00,  3.41it/s]\n"
          ]
        },
        {
          "output_type": "stream",
          "name": "stdout",
          "text": [
            "Epoch: 45, Train Loss: 51.95688111441476, Val Loss: 49.38294274466379\n"
          ]
        },
        {
          "output_type": "stream",
          "name": "stderr",
          "text": [
            "Epoch 45: 100%|██████████| 42/42 [00:12<00:00,  3.36it/s]\n"
          ]
        },
        {
          "output_type": "stream",
          "name": "stdout",
          "text": [
            "Epoch: 46, Train Loss: 51.30560906728109, Val Loss: 48.297453199114116\n"
          ]
        },
        {
          "output_type": "stream",
          "name": "stderr",
          "text": [
            "Epoch 46: 100%|██████████| 42/42 [00:12<00:00,  3.40it/s]\n"
          ]
        },
        {
          "output_type": "stream",
          "name": "stdout",
          "text": [
            "Epoch: 47, Train Loss: 50.70265056973412, Val Loss: 47.58302879333496\n"
          ]
        },
        {
          "output_type": "stream",
          "name": "stderr",
          "text": [
            "Epoch 47: 100%|██████████| 42/42 [00:12<00:00,  3.40it/s]\n"
          ]
        },
        {
          "output_type": "stream",
          "name": "stdout",
          "text": [
            "Epoch: 48, Train Loss: 50.0234435853504, Val Loss: 46.59123148236956\n"
          ]
        },
        {
          "output_type": "stream",
          "name": "stderr",
          "text": [
            "Epoch 48: 100%|██████████| 42/42 [00:12<00:00,  3.40it/s]\n"
          ]
        },
        {
          "output_type": "stream",
          "name": "stdout",
          "text": [
            "Epoch: 49, Train Loss: 49.514742896670384, Val Loss: 46.035670961652485\n"
          ]
        },
        {
          "output_type": "stream",
          "name": "stderr",
          "text": [
            "Epoch 49: 100%|██████████| 42/42 [00:12<00:00,  3.40it/s]\n"
          ]
        },
        {
          "output_type": "stream",
          "name": "stdout",
          "text": [
            "Epoch: 50, Train Loss: 49.02637191045852, Val Loss: 45.20064353942871\n"
          ]
        },
        {
          "output_type": "stream",
          "name": "stderr",
          "text": [
            "Epoch 50: 100%|██████████| 42/42 [00:12<00:00,  3.40it/s]\n"
          ]
        },
        {
          "output_type": "stream",
          "name": "stdout",
          "text": [
            "Epoch: 51, Train Loss: 48.63177086058117, Val Loss: 44.80252047947475\n"
          ]
        },
        {
          "output_type": "stream",
          "name": "stderr",
          "text": [
            "Epoch 51: 100%|██████████| 42/42 [00:12<00:00,  3.40it/s]\n"
          ]
        },
        {
          "output_type": "stream",
          "name": "stdout",
          "text": [
            "Epoch: 52, Train Loss: 48.21982810610817, Val Loss: 44.06317274911063\n"
          ]
        },
        {
          "output_type": "stream",
          "name": "stderr",
          "text": [
            "Epoch 52: 100%|██████████| 42/42 [00:12<00:00,  3.39it/s]\n"
          ]
        },
        {
          "output_type": "stream",
          "name": "stdout",
          "text": [
            "Epoch: 53, Train Loss: 47.823155857267835, Val Loss: 43.67856516156878\n"
          ]
        },
        {
          "output_type": "stream",
          "name": "stderr",
          "text": [
            "Epoch 53: 100%|██████████| 42/42 [00:12<00:00,  3.40it/s]\n"
          ]
        },
        {
          "output_type": "stream",
          "name": "stdout",
          "text": [
            "Epoch: 54, Train Loss: 47.41941610972086, Val Loss: 42.97939273289272\n"
          ]
        },
        {
          "output_type": "stream",
          "name": "stderr",
          "text": [
            "Epoch 54: 100%|██████████| 42/42 [00:12<00:00,  3.40it/s]\n"
          ]
        },
        {
          "output_type": "stream",
          "name": "stdout",
          "text": [
            "Epoch: 55, Train Loss: 47.0854168392363, Val Loss: 42.716352462768555\n"
          ]
        },
        {
          "output_type": "stream",
          "name": "stderr",
          "text": [
            "Epoch 55: 100%|██████████| 42/42 [00:12<00:00,  3.39it/s]\n"
          ]
        },
        {
          "output_type": "stream",
          "name": "stdout",
          "text": [
            "Epoch: 56, Train Loss: 46.79294826870873, Val Loss: 42.0972535269601\n"
          ]
        },
        {
          "output_type": "stream",
          "name": "stderr",
          "text": [
            "Epoch 56: 100%|██████████| 42/42 [00:12<00:00,  3.39it/s]\n"
          ]
        },
        {
          "output_type": "stream",
          "name": "stdout",
          "text": [
            "Epoch: 57, Train Loss: 46.60230663844517, Val Loss: 42.00055122375488\n"
          ]
        },
        {
          "output_type": "stream",
          "name": "stderr",
          "text": [
            "Epoch 57: 100%|██████████| 42/42 [00:12<00:00,  3.40it/s]\n"
          ]
        },
        {
          "output_type": "stream",
          "name": "stdout",
          "text": [
            "Epoch: 58, Train Loss: 46.48890740530832, Val Loss: 41.58392606462751\n"
          ]
        },
        {
          "output_type": "stream",
          "name": "stderr",
          "text": [
            "Epoch 58: 100%|██████████| 42/42 [00:12<00:00,  3.40it/s]\n"
          ]
        },
        {
          "output_type": "stream",
          "name": "stdout",
          "text": [
            "Epoch: 59, Train Loss: 46.444614319574264, Val Loss: 41.56030055454799\n"
          ]
        },
        {
          "output_type": "stream",
          "name": "stderr",
          "text": [
            "Epoch 59: 100%|██████████| 42/42 [00:12<00:00,  3.40it/s]\n"
          ]
        },
        {
          "output_type": "stream",
          "name": "stdout",
          "text": [
            "Epoch: 60, Train Loss: 46.37400354657854, Val Loss: 41.1433162689209\n"
          ]
        },
        {
          "output_type": "stream",
          "name": "stderr",
          "text": [
            "Epoch 60: 100%|██████████| 42/42 [00:12<00:00,  3.40it/s]\n"
          ]
        },
        {
          "output_type": "stream",
          "name": "stdout",
          "text": [
            "Epoch: 61, Train Loss: 46.30478650047665, Val Loss: 41.13148471287319\n"
          ]
        },
        {
          "output_type": "stream",
          "name": "stderr",
          "text": [
            "Epoch 61: 100%|██████████| 42/42 [00:12<00:00,  3.40it/s]\n"
          ]
        },
        {
          "output_type": "stream",
          "name": "stdout",
          "text": [
            "Epoch: 62, Train Loss: 46.17478647686186, Val Loss: 40.685646057128906\n"
          ]
        },
        {
          "output_type": "stream",
          "name": "stderr",
          "text": [
            "Epoch 62: 100%|██████████| 42/42 [00:12<00:00,  3.40it/s]\n"
          ]
        },
        {
          "output_type": "stream",
          "name": "stdout",
          "text": [
            "Epoch: 63, Train Loss: 46.05018420446487, Val Loss: 40.61278779166086\n"
          ]
        },
        {
          "output_type": "stream",
          "name": "stderr",
          "text": [
            "Epoch 63: 100%|██████████| 42/42 [00:12<00:00,  3.41it/s]\n"
          ]
        },
        {
          "output_type": "stream",
          "name": "stdout",
          "text": [
            "Epoch: 64, Train Loss: 45.86623963855562, Val Loss: 40.14404487609863\n"
          ]
        },
        {
          "output_type": "stream",
          "name": "stderr",
          "text": [
            "Epoch 64: 100%|██████████| 42/42 [00:12<00:00,  3.40it/s]\n"
          ]
        },
        {
          "output_type": "stream",
          "name": "stdout",
          "text": [
            "Epoch: 65, Train Loss: 45.72857911246164, Val Loss: 40.07403782435826\n"
          ]
        },
        {
          "output_type": "stream",
          "name": "stderr",
          "text": [
            "Epoch 65: 100%|██████████| 42/42 [00:12<00:00,  3.40it/s]\n"
          ]
        },
        {
          "output_type": "stream",
          "name": "stdout",
          "text": [
            "Epoch: 66, Train Loss: 45.521802720569426, Val Loss: 39.6459835597447\n"
          ]
        },
        {
          "output_type": "stream",
          "name": "stderr",
          "text": [
            "Epoch 66: 100%|██████████| 42/42 [00:12<00:00,  3.40it/s]\n"
          ]
        },
        {
          "output_type": "stream",
          "name": "stdout",
          "text": [
            "Epoch: 67, Train Loss: 45.37341867174421, Val Loss: 39.597507749285015\n"
          ]
        },
        {
          "output_type": "stream",
          "name": "stderr",
          "text": [
            "Epoch 67: 100%|██████████| 42/42 [00:12<00:00,  3.40it/s]\n"
          ]
        },
        {
          "output_type": "stream",
          "name": "stdout",
          "text": [
            "Epoch: 68, Train Loss: 45.15584909348261, Val Loss: 39.156524658203125\n"
          ]
        },
        {
          "output_type": "stream",
          "name": "stderr",
          "text": [
            "Epoch 68: 100%|██████████| 42/42 [00:12<00:00,  3.41it/s]\n"
          ]
        },
        {
          "output_type": "stream",
          "name": "stdout",
          "text": [
            "Epoch: 69, Train Loss: 45.027699198041645, Val Loss: 39.17704854692732\n"
          ]
        },
        {
          "output_type": "stream",
          "name": "stderr",
          "text": [
            "Epoch 69: 100%|██████████| 42/42 [00:12<00:00,  3.40it/s]\n"
          ]
        },
        {
          "output_type": "stream",
          "name": "stdout",
          "text": [
            "Epoch: 70, Train Loss: 44.8278542019072, Val Loss: 38.80789130074637\n"
          ]
        },
        {
          "output_type": "stream",
          "name": "stderr",
          "text": [
            "Epoch 70: 100%|██████████| 42/42 [00:12<00:00,  3.40it/s]\n"
          ]
        },
        {
          "output_type": "stream",
          "name": "stdout",
          "text": [
            "Epoch: 71, Train Loss: 44.68575895400274, Val Loss: 38.84048271179199\n"
          ]
        },
        {
          "output_type": "stream",
          "name": "stderr",
          "text": [
            "Epoch 71: 100%|██████████| 42/42 [00:12<00:00,  3.40it/s]\n"
          ]
        },
        {
          "output_type": "stream",
          "name": "stdout",
          "text": [
            "Epoch: 72, Train Loss: 44.52975000653948, Val Loss: 38.54716873168945\n"
          ]
        },
        {
          "output_type": "stream",
          "name": "stderr",
          "text": [
            "Epoch 72: 100%|██████████| 42/42 [00:12<00:00,  3.40it/s]\n"
          ]
        },
        {
          "output_type": "stream",
          "name": "stdout",
          "text": [
            "Epoch: 73, Train Loss: 44.45624115353539, Val Loss: 38.72958428519113\n"
          ]
        },
        {
          "output_type": "stream",
          "name": "stderr",
          "text": [
            "Epoch 73: 100%|██████████| 42/42 [00:12<00:00,  3.41it/s]\n"
          ]
        },
        {
          "output_type": "stream",
          "name": "stdout",
          "text": [
            "Epoch: 74, Train Loss: 44.36881158465431, Val Loss: 38.55649484906878\n"
          ]
        },
        {
          "output_type": "stream",
          "name": "stderr",
          "text": [
            "Epoch 74: 100%|██████████| 42/42 [00:12<00:00,  3.40it/s]\n"
          ]
        },
        {
          "output_type": "stream",
          "name": "stdout",
          "text": [
            "Epoch: 75, Train Loss: 44.341980888730006, Val Loss: 38.785861424037385\n"
          ]
        },
        {
          "output_type": "stream",
          "name": "stderr",
          "text": [
            "Epoch 75: 100%|██████████| 42/42 [00:12<00:00,  3.40it/s]\n"
          ]
        },
        {
          "output_type": "stream",
          "name": "stdout",
          "text": [
            "Epoch: 76, Train Loss: 44.293405033293226, Val Loss: 38.655421665736604\n"
          ]
        },
        {
          "output_type": "stream",
          "name": "stderr",
          "text": [
            "Epoch 76: 100%|██████████| 42/42 [00:12<00:00,  3.40it/s]\n"
          ]
        },
        {
          "output_type": "stream",
          "name": "stdout",
          "text": [
            "Epoch: 77, Train Loss: 44.2997541200547, Val Loss: 38.998636790684294\n"
          ]
        },
        {
          "output_type": "stream",
          "name": "stderr",
          "text": [
            "Epoch 77: 100%|██████████| 42/42 [00:12<00:00,  3.40it/s]\n"
          ]
        },
        {
          "output_type": "stream",
          "name": "stdout",
          "text": [
            "Epoch: 78, Train Loss: 44.275770414443244, Val Loss: 38.93533842904227\n"
          ]
        },
        {
          "output_type": "stream",
          "name": "stderr",
          "text": [
            "Epoch 78: 100%|██████████| 42/42 [00:12<00:00,  3.41it/s]\n"
          ]
        },
        {
          "output_type": "stream",
          "name": "stdout",
          "text": [
            "Epoch: 79, Train Loss: 44.24848408926101, Val Loss: 39.20821462358747\n"
          ]
        },
        {
          "output_type": "stream",
          "name": "stderr",
          "text": [
            "Epoch 79: 100%|██████████| 42/42 [00:12<00:00,  3.40it/s]\n"
          ]
        },
        {
          "output_type": "stream",
          "name": "stdout",
          "text": [
            "Epoch: 80, Train Loss: 44.15489739463443, Val Loss: 39.10960851396833\n"
          ]
        },
        {
          "output_type": "stream",
          "name": "stderr",
          "text": [
            "Epoch 80: 100%|██████████| 42/42 [00:12<00:00,  3.40it/s]\n"
          ]
        },
        {
          "output_type": "stream",
          "name": "stdout",
          "text": [
            "Epoch: 81, Train Loss: 44.10194135847546, Val Loss: 39.39777701241629\n"
          ]
        },
        {
          "output_type": "stream",
          "name": "stderr",
          "text": [
            "Epoch 81: 100%|██████████| 42/42 [00:12<00:00,  3.40it/s]\n"
          ]
        },
        {
          "output_type": "stream",
          "name": "stdout",
          "text": [
            "Epoch: 82, Train Loss: 43.98123713902065, Val Loss: 39.26023020063128\n"
          ]
        },
        {
          "output_type": "stream",
          "name": "stderr",
          "text": [
            "Epoch 82: 100%|██████████| 42/42 [00:12<00:00,  3.40it/s]\n"
          ]
        },
        {
          "output_type": "stream",
          "name": "stdout",
          "text": [
            "Epoch: 83, Train Loss: 43.89693339665731, Val Loss: 39.51509066990444\n"
          ]
        },
        {
          "output_type": "stream",
          "name": "stderr",
          "text": [
            "Epoch 83: 100%|██████████| 42/42 [00:12<00:00,  3.40it/s]\n"
          ]
        },
        {
          "output_type": "stream",
          "name": "stdout",
          "text": [
            "Epoch: 84, Train Loss: 43.767943745567685, Val Loss: 39.447146551949636\n"
          ]
        },
        {
          "output_type": "stream",
          "name": "stderr",
          "text": [
            "Epoch 84: 100%|██████████| 42/42 [00:12<00:00,  3.41it/s]\n"
          ]
        },
        {
          "output_type": "stream",
          "name": "stdout",
          "text": [
            "Epoch: 85, Train Loss: 43.72352273123605, Val Loss: 39.772804260253906\n"
          ]
        },
        {
          "output_type": "stream",
          "name": "stderr",
          "text": [
            "Epoch 85: 100%|██████████| 42/42 [00:12<00:00,  3.41it/s]\n"
          ]
        },
        {
          "output_type": "stream",
          "name": "stdout",
          "text": [
            "Epoch: 86, Train Loss: 43.61655705315726, Val Loss: 39.739091873168945\n"
          ]
        },
        {
          "output_type": "stream",
          "name": "stderr",
          "text": [
            "Epoch 86: 100%|██████████| 42/42 [00:12<00:00,  3.40it/s]\n"
          ]
        },
        {
          "output_type": "stream",
          "name": "stdout",
          "text": [
            "Epoch: 87, Train Loss: 43.58311444237118, Val Loss: 40.06026703970773\n"
          ]
        },
        {
          "output_type": "stream",
          "name": "stderr",
          "text": [
            "Epoch 87: 100%|██████████| 42/42 [00:12<00:00,  3.40it/s]\n"
          ]
        },
        {
          "output_type": "stream",
          "name": "stdout",
          "text": [
            "Epoch: 88, Train Loss: 43.50875663757324, Val Loss: 40.12670081002371\n"
          ]
        },
        {
          "output_type": "stream",
          "name": "stderr",
          "text": [
            "Epoch 88: 100%|██████████| 42/42 [00:12<00:00,  3.40it/s]\n"
          ]
        },
        {
          "output_type": "stream",
          "name": "stdout",
          "text": [
            "Epoch: 89, Train Loss: 43.59750638689314, Val Loss: 40.55877958025251\n"
          ]
        },
        {
          "output_type": "stream",
          "name": "stderr",
          "text": [
            "Epoch 89: 100%|██████████| 42/42 [00:12<00:00,  3.40it/s]\n"
          ]
        },
        {
          "output_type": "stream",
          "name": "stdout",
          "text": [
            "Epoch: 90, Train Loss: 43.60929137184506, Val Loss: 40.70946775163923\n"
          ]
        },
        {
          "output_type": "stream",
          "name": "stderr",
          "text": [
            "Epoch 90: 100%|██████████| 42/42 [00:12<00:00,  3.40it/s]\n"
          ]
        },
        {
          "output_type": "stream",
          "name": "stdout",
          "text": [
            "Epoch: 91, Train Loss: 43.724848066057476, Val Loss: 41.162919180733816\n"
          ]
        },
        {
          "output_type": "stream",
          "name": "stderr",
          "text": [
            "Epoch 91: 100%|██████████| 42/42 [00:12<00:00,  3.40it/s]\n"
          ]
        },
        {
          "output_type": "stream",
          "name": "stdout",
          "text": [
            "Epoch: 92, Train Loss: 43.71451339267549, Val Loss: 41.27104132516043\n"
          ]
        },
        {
          "output_type": "stream",
          "name": "stderr",
          "text": [
            "Epoch 92: 100%|██████████| 42/42 [00:12<00:00,  3.39it/s]\n"
          ]
        },
        {
          "output_type": "stream",
          "name": "stdout",
          "text": [
            "Epoch: 93, Train Loss: 43.79437950679234, Val Loss: 41.70071165902274\n"
          ]
        },
        {
          "output_type": "stream",
          "name": "stderr",
          "text": [
            "Epoch 93: 100%|██████████| 42/42 [00:12<00:00,  3.40it/s]\n"
          ]
        },
        {
          "output_type": "stream",
          "name": "stdout",
          "text": [
            "Epoch: 94, Train Loss: 43.814363933744886, Val Loss: 41.86067117963518\n"
          ]
        },
        {
          "output_type": "stream",
          "name": "stderr",
          "text": [
            "Epoch 94: 100%|██████████| 42/42 [00:12<00:00,  3.39it/s]\n"
          ]
        },
        {
          "output_type": "stream",
          "name": "stdout",
          "text": [
            "Epoch: 95, Train Loss: 43.96921761830648, Val Loss: 42.31438991001674\n"
          ]
        },
        {
          "output_type": "stream",
          "name": "stderr",
          "text": [
            "Epoch 95: 100%|██████████| 42/42 [00:12<00:00,  3.39it/s]\n"
          ]
        },
        {
          "output_type": "stream",
          "name": "stdout",
          "text": [
            "Epoch: 96, Train Loss: 44.040378843035015, Val Loss: 42.45038958958217\n"
          ]
        },
        {
          "output_type": "stream",
          "name": "stderr",
          "text": [
            "Epoch 96: 100%|██████████| 42/42 [00:12<00:00,  3.40it/s]\n"
          ]
        },
        {
          "output_type": "stream",
          "name": "stdout",
          "text": [
            "Epoch: 97, Train Loss: 44.141354765210835, Val Loss: 42.8663455418178\n"
          ]
        },
        {
          "output_type": "stream",
          "name": "stderr",
          "text": [
            "Epoch 97: 100%|██████████| 42/42 [00:12<00:00,  3.40it/s]\n"
          ]
        },
        {
          "output_type": "stream",
          "name": "stdout",
          "text": [
            "Epoch: 98, Train Loss: 44.10775080181303, Val Loss: 42.87109293256487\n"
          ]
        },
        {
          "output_type": "stream",
          "name": "stderr",
          "text": [
            "Epoch 98: 100%|██████████| 42/42 [00:12<00:00,  3.41it/s]\n"
          ]
        },
        {
          "output_type": "stream",
          "name": "stdout",
          "text": [
            "Epoch: 99, Train Loss: 44.09625598362514, Val Loss: 43.1228335244315\n"
          ]
        },
        {
          "output_type": "stream",
          "name": "stderr",
          "text": [
            "Epoch 99: 100%|██████████| 42/42 [00:12<00:00,  3.40it/s]\n"
          ]
        },
        {
          "output_type": "stream",
          "name": "stdout",
          "text": [
            "Epoch: 100, Train Loss: 44.013646239326114, Val Loss: 43.06130000523159\n"
          ]
        }
      ],
      "source": [
        "from torch.utils.data import DataLoader\n",
        "import torch.optim as optim\n",
        "\n",
        "\n",
        "device = torch.device(\"cuda\" if torch.cuda.is_available() else \"cpu\")\n",
        "model = VAE(embedding_dim= 2048).to(device) # Adjust embedding_dim as needed\n",
        "optimizer = optim.Adam(model.parameters(), lr=0.0001)\n",
        "criterion = model.vae_loss\n",
        "\n",
        "# Data loaders\n",
        "train_loader = DataLoader(train_dataset, batch_size=128, shuffle=False)\n",
        "val_loader = DataLoader(val_dataset, batch_size=128, shuffle=False)\n",
        "\n",
        "# Training loop\n",
        "num_epochs = 100\n",
        "train_losses = []\n",
        "val_losses = []\n",
        "\n",
        "# for epoch in range(num_epochs):\n",
        "#     model.train()\n",
        "#     train_loss = 0\n",
        "#     for batch_idx, (data, _) in enumerate(tqdm(train_loader, desc=f\"Epoch {epoch}\")):\n",
        "#         optimizer.zero_grad()\n",
        "#         recon_batch, mu, logvar = model(data)\n",
        "#         loss = criterion(recon_batch, data, mu, logvar)\n",
        "#         loss.backward()\n",
        "#         train_loss += loss.item()\n",
        "#         optimizer.step()\n",
        "#     train_losses.append(train_loss / len(train_loader))\n",
        "\n",
        "#     model.eval()\n",
        "#     val_loss = 0\n",
        "#     with torch.no_grad():\n",
        "#         for batch_idx, (data, _) in enumerate(val_loader):\n",
        "#             recon_batch, mu, logvar = model(data)\n",
        "#             loss = criterion(recon_batch, data, mu, logvar)\n",
        "#             val_loss += loss.item()\n",
        "#     val_losses.append(val_loss / len(val_loader))\n",
        "for epoch in range(num_epochs):\n",
        "    model.train()\n",
        "    train_loss = 0\n",
        "    for batch_idx, (data, _) in enumerate(tqdm(train_loader, desc=f\"Epoch {epoch}\")):\n",
        "        data = data.to(device) # Move data to device\n",
        "        optimizer.zero_grad()\n",
        "        recon_batch, mu, logvar = model(data)\n",
        "        loss = criterion(recon_batch, data, mu, logvar)\n",
        "        loss.backward()\n",
        "        train_loss += loss.item()\n",
        "        optimizer.step()\n",
        "    train_losses.append(train_loss / len(train_loader))\n",
        "\n",
        "    model.eval()\n",
        "    val_loss = 0\n",
        "    with torch.no_grad():\n",
        "        for batch_idx, (data, _) in enumerate(val_loader):\n",
        "            data = data.to(device) # Move data to device\n",
        "            recon_batch, mu, logvar = model(data)\n",
        "            loss = criterion(recon_batch, data, mu, logvar)\n",
        "            val_loss += loss.item()\n",
        "    val_losses.append(val_loss / len(val_loader))\n",
        "\n",
        "    print(f'Epoch: {epoch+1}, Train Loss: {train_losses[-1]}, Val Loss: {val_losses[-1]}')"
      ]
    },
    {
      "cell_type": "code",
      "execution_count": 26,
      "id": "WhOBgFa5ESdV",
      "metadata": {
        "id": "WhOBgFa5ESdV",
        "colab": {
          "base_uri": "https://localhost:8080/",
          "height": 986
        },
        "outputId": "3701edd6-4428-4041-a1e3-fb064fe5ea3c"
      },
      "outputs": [
        {
          "output_type": "stream",
          "name": "stderr",
          "text": [
            "WARNING:matplotlib.image:Clipping input data to the valid range for imshow with RGB data ([0..1] for floats or [0..255] for integers).\n"
          ]
        },
        {
          "output_type": "stream",
          "name": "stdout",
          "text": [
            "For the first image in the passed data batch -> \n",
            "\n",
            "For the first image among the batch passed : \n",
            "Max value of intensity along 1st channel :  5.626907    Min value :  0.0\n",
            "Max value of intensity along 2nd channel :  7.4929852    Min value :  0.0\n",
            "Max value of intensity along 3rd channel :  2.6198044    Min value :  0.0\n"
          ]
        },
        {
          "output_type": "display_data",
          "data": {
            "text/plain": [
              "<Figure size 640x480 with 1 Axes>"
            ],
            "image/png": "[encoded data removed]"
          },
          "metadata": {}
        },
        {
          "output_type": "display_data",
          "data": {
            "text/plain": [
              "<Figure size 2000x2000 with 6 Axes>"
            ],
            "image/png": "[encoded data removed]"
          },
          "metadata": {}
        }
      ],
      "source": [
        "plot_fxn(X_jets*255.)"
      ]
    },
    {
      "cell_type": "code",
      "execution_count": 27,
      "id": "AMhzHbtvDwrT",
      "metadata": {
        "id": "AMhzHbtvDwrT"
      },
      "outputs": [],
      "source": [
        "def reconstruct_image(original_image, model):\n",
        "    # Ensure the image is a PyTorch tensor and on the correct device\n",
        "    original_image = torch.from_numpy(original_image).float().to(device)\n",
        "    # Reshape the image to match the input shape expected by the model\n",
        "    original_image = original_image.unsqueeze(0) # Assuming the model expects a batch of images\n",
        "\n",
        "    # Pass the image through the model to get the reconstructed image\n",
        "    with torch.no_grad():\n",
        "        reconstructed_image = model(original_image)\n",
        "\n",
        "    # Convert the reconstructed image back to a NumPy array\n",
        "    reconstructed_image = reconstructed_image[0]\n",
        "    reconstructed_image = reconstructed_image.squeeze(0)\n",
        "#    print(reconstructed_image.shape)\n",
        "    reconstructed_image = reconstructed_image.cpu().numpy().astype(np.float32)\n",
        "\n",
        "    reconstructed_image = np.transpose(reconstructed_image, (1, 2, 0))\n",
        "#    print(reconstructed_image.shape)\n",
        "    # # Reshape the reconstructed image to its original shape (128x128 for our case)\n",
        "    # reconstructed_image = reconstructed_image.reshape(128, 128)\n",
        "\n",
        "    return reconstructed_image"
      ]
    },
    {
      "cell_type": "code",
      "execution_count": 27,
      "id": "oI0-l1ZyEKin",
      "metadata": {
        "id": "oI0-l1ZyEKin"
      },
      "outputs": [],
      "source": []
    },
    {
      "cell_type": "code",
      "execution_count": 51,
      "id": "f2c56ba20c3ab6e9",
      "metadata": {
        "id": "f2c56ba20c3ab6e9"
      },
      "outputs": [],
      "source": [
        "import matplotlib.pyplot as plt\n",
        "import numpy as np\n",
        "\n",
        "# # Now that the model is trained, and we have already loaded a  DataLoader for the test data.\n",
        "# test_loader = DataLoader(test_dataset, batch_size=128, shuffle=False)\n",
        "\n",
        "# import matplotlib.pyplot as plt\n",
        "# import numpy as np\n",
        "\n",
        "# # Assuming the model is trained and you have a DataLoader for test data\n",
        "# #test_loader = DataLoader(test_dataset, batch_size=1, shuffle=False)\n",
        "\n",
        "# # Get a single image from the test dataset\n",
        "# dataiter = iter(test_loader)\n",
        "# images, _ = next(dataiter)\n",
        "images = X_jets[0]\n",
        "images[:,:,0] = (images[:,:,0] - np.min(images[:,:,0]))/(np.max(images[:,:,0]) - np.min(images[:,:,0]))\n",
        "images[:,:,1] = (images[:,:,1] - np.min(images[:,:,1]))/(np.max(images[:,:,1]) - np.min(images[:,:,1]))\n",
        "images[:,:,2] = (images[:,:,2] - np.min(images[:,:,2]))/(np.max(images[:,:,2]) - np.min(images[:,:,2]))\n",
        "# Plot original image\n",
        "# plt.figure(figsize=(10, 5))\n",
        "# plt.subplot(1, 2, 1)\n",
        "# plt.imshow(images * 255.)\n",
        "# plt.title('Original Image')\n",
        "# plt.axis('off')\n",
        "\n",
        "images = np.transpose(images, (2, 1, 0))\n",
        "#images.to(device)\n",
        "reconstructed_image = reconstruct_image(images, model)\n",
        "\n",
        "#reconstructed_image = np.clip(reconstructed_image, 0, None)\n",
        "# Scale the reconstructed image by 255.0 and convert to numpy\n",
        "reconstructed_image_scaled = reconstructed_image\n"
      ]
    },
    {
      "cell_type": "markdown",
      "source": [],
      "metadata": {
        "id": "CwWFRLWlg5Od"
      },
      "id": "CwWFRLWlg5Od"
    },
    {
      "cell_type": "code",
      "source": [
        "X_sample = X_jets[0]\n",
        "#X_sample = (X_sample - np.min(X_sample)) / (np.max(X_sample) - np.min(X_sample))\n",
        "# X_sample[:,:,0] = X_sample[:,:,0] * trackMax\n",
        "# X_sample[:,:,1] = X_sample[:,:,1] * ecalMax\n",
        "# X_sample[:,:,2] = X_sample[:,:,2] * hcalMax\n",
        "\n",
        "print(\"For the first image among the batch passed : \")\n",
        "print(\"Max value of intensity along 1st channel : \", np.max(X_sample[:,:,0]), \"   Min value : \", np.min(X_sample[:,:,0]))\n",
        "print(\"Max value of intensity along 2nd channel : \", np.max(X_sample[:,:,1]), \"   Min value : \", np.min(X_sample[:,:,1]))\n",
        "print(\"Max value of intensity along 3rd channel : \", np.max(X_sample[:,:,2]), \"   Min value : \", np.min(X_sample[:,:,2]))\n",
        "og_plot = plt.imshow(X_sample)\n",
        "\n",
        "\n",
        "fig, axs = plt.subplots(1, 3, figsize=(20, 20))\n",
        "\n",
        "im1 = axs[0].imshow(X_sample[:,:,0], cmap='viridis', vmin=-0.5, vmax=2.0, interpolation='nearest')\n",
        "axs[0].set_title('Track')\n",
        "\n",
        "im2 = axs[1].imshow(X_sample[:, :, 1], cmap='viridis', vmin=-0.5, vmax=2.0, interpolation='nearest')\n",
        "axs[1].set_title('ECAL')\n",
        "\n",
        "im3 = axs[2].imshow(X_sample[:, :,2], cmap='viridis', vmin=-0.5, vmax=2.0, interpolation='nearest')\n",
        "axs[2].set_title('HCAL')\n",
        "\n",
        "# Add colorbars\n",
        "fig.colorbar(im1, ax=axs[0], shrink=0.25)\n",
        "fig.colorbar(im2, ax=axs[1], shrink=0.25)\n",
        "fig.colorbar(im3, ax=axs[2], shrink=0.25)\n"
      ],
      "metadata": {
        "colab": {
          "base_uri": "https://localhost:8080/",
          "height": 951
        },
        "id": "wuqvTJuEgW3G",
        "outputId": "4e71d3aa-bab6-48a9-8702-af7962e1fa80"
      },
      "id": "wuqvTJuEgW3G",
      "execution_count": 57,
      "outputs": [
        {
          "output_type": "stream",
          "name": "stdout",
          "text": [
            "For the first image among the batch passed : \n",
            "Max value of intensity along 1st channel :  1.0    Min value :  0.0\n",
            "Max value of intensity along 2nd channel :  1.0    Min value :  0.0\n",
            "Max value of intensity along 3rd channel :  1.0    Min value :  0.0\n"
          ]
        },
        {
          "output_type": "execute_result",
          "data": {
            "text/plain": [
              "<matplotlib.colorbar.Colorbar at 0x7a660b29aa70>"
            ]
          },
          "metadata": {},
          "execution_count": 57
        },
        {
          "output_type": "display_data",
          "data": {
            "text/plain": [
              "<Figure size 640x480 with 1 Axes>"
            ],
            "image/png": "[encoded data removed]"
          },
          "metadata": {}
        },
        {
          "output_type": "display_data",
          "data": {
            "text/plain": [
              "<Figure size 2000x2000 with 6 Axes>"
            ],
            "image/png": "[encoded data removed]"
          },
          "metadata": {}
        }
      ]
    },
    {
      "cell_type": "code",
      "source": [
        "recon_img = reconstructed_image_scaled\n",
        "# recon_img[:,:,0] = (recon_img[:,:,0] - np.min(recon_img[:,:,0]))/(np.max(recon_img[:,:,0]) - np.min(recon_img[:,:,0]))\n",
        "# recon_img[:,:,1] = (recon_img[:,:,1] - np.min(recon_img[:,:,1]))/(np.max(recon_img[:,:,1]) - np.min(recon_img[:,:,1]))\n",
        "# recon_img[:,:,2] = (recon_img[:,:,2] - np.min(recon_img[:,:,2]))/(np.max(recon_img[:,:,2]) - np.min(recon_img[:,:,2]))"
      ],
      "metadata": {
        "id": "vYS2FiD6ghkB"
      },
      "id": "vYS2FiD6ghkB",
      "execution_count": 53,
      "outputs": []
    },
    {
      "cell_type": "markdown",
      "source": [
        "### The reconstructed image is plotted as shown."
      ],
      "metadata": {
        "id": "VVYtGFH_fIJt"
      },
      "id": "VVYtGFH_fIJt"
    },
    {
      "cell_type": "code",
      "source": [
        "X_sample = recon_img\n",
        "print(\"For the first image among the batch passed : \")\n",
        "print(\"Max value of intensity along 1st channel : \", np.max(X_sample[:,:,0]), \"   Min value : \", np.min(X_sample[:,:,0]))\n",
        "print(\"Max value of intensity along 2nd channel : \", np.max(X_sample[:,:,1]), \"   Min value : \", np.min(X_sample[:,:,1]))\n",
        "print(\"Max value of intensity along 3rd channel : \", np.max(X_sample[:,:,2]), \"   Min value : \", np.min(X_sample[:,:,2]))\n",
        "# X_sample[:,:,0] = X_sample[:,:,0] * trackMax\n",
        "# X_sample[:,:,1] = X_sample[:,:,1] * ecalMax\n",
        "# X_sample[:,:,2] = X_sample[:,:,2] * hcalMax\n",
        "\n",
        "og_plot = plt.imshow(X_sample)\n",
        "\n",
        "\n",
        "fig, axs = plt.subplots(1, 3, figsize=(20, 20))\n",
        "\n",
        "im1 = axs[0].imshow(X_sample[:,:,0], cmap='viridis', vmin=-0.5, vmax=2.0, interpolation='nearest')\n",
        "axs[0].set_title('Track')\n",
        "\n",
        "im2 = axs[1].imshow(X_sample[:, :, 1], cmap='viridis', vmin=-0.5, vmax=2.0, interpolation='nearest')\n",
        "axs[1].set_title('ECAL')\n",
        "\n",
        "im3 = axs[2].imshow(X_sample[:, :,2], cmap='viridis', vmin=-0.5, vmax=2.0, interpolation='nearest')\n",
        "axs[2].set_title('HCAL')\n",
        "\n",
        "# Add colorbars\n",
        "fig.colorbar(im1, ax=axs[0], shrink=0.25)\n",
        "fig.colorbar(im2, ax=axs[1], shrink=0.25)\n",
        "fig.colorbar(im3, ax=axs[2], shrink=0.25)"
      ],
      "metadata": {
        "colab": {
          "base_uri": "https://localhost:8080/",
          "height": 951
        },
        "id": "Vmvt7vJshpC4",
        "outputId": "d27a8336-cedd-44c2-a15d-a14a967aeeb5"
      },
      "id": "Vmvt7vJshpC4",
      "execution_count": 58,
      "outputs": [
        {
          "output_type": "stream",
          "name": "stdout",
          "text": [
            "For the first image among the batch passed : \n",
            "Max value of intensity along 1st channel :  0.9994836    Min value :  0.0\n",
            "Max value of intensity along 2nd channel :  0.996581    Min value :  0.0\n",
            "Max value of intensity along 3rd channel :  0.99973154    Min value :  0.0\n"
          ]
        },
        {
          "output_type": "execute_result",
          "data": {
            "text/plain": [
              "<matplotlib.colorbar.Colorbar at 0x7a660af47400>"
            ]
          },
          "metadata": {},
          "execution_count": 58
        },
        {
          "output_type": "display_data",
          "data": {
            "text/plain": [
              "<Figure size 640x480 with 1 Axes>"
            ],
            "image/png": "[encoded data removed]"
          },
          "metadata": {}
        },
        {
          "output_type": "display_data",
          "data": {
            "text/plain": [
              "<Figure size 2000x2000 with 6 Axes>"
            ],
            "image/png": "[encoded data removed]"
          },
          "metadata": {}
        }
      ]
    },
    {
      "cell_type": "code",
      "execution_count": 59,
      "id": "ec3405213485e918",
      "metadata": {
        "id": "ec3405213485e918",
        "colab": {
          "base_uri": "https://localhost:8080/",
          "height": 487
        },
        "outputId": "acfd0973-bef4-4cd6-ce0f-c93a34026d0a"
      },
      "outputs": [
        {
          "output_type": "display_data",
          "data": {
            "text/plain": [
              "<Figure size 1000x500 with 1 Axes>"
            ],
            "image/png": "[encoded data removed]"
          },
          "metadata": {}
        }
      ],
      "source": [
        "plt.figure(figsize=(10, 5))\n",
        "plt.plot(train_losses, label='Training Loss')\n",
        "plt.plot(val_losses, label='Validation Loss')\n",
        "\n",
        "plt.title('Training and Validation Loss')\n",
        "plt.xlabel('Epochs')\n",
        "plt.ylabel('Loss')\n",
        "plt.legend()\n",
        "plt.show()"
      ]
    },
    {
      "cell_type": "code",
      "execution_count": null,
      "id": "1699b4c437e1552b",
      "metadata": {
        "id": "1699b4c437e1552b"
      },
      "outputs": [],
      "source": []
    },
    {
      "cell_type": "code",
      "execution_count": null,
      "id": "7d0e899923ac6290",
      "metadata": {
        "id": "7d0e899923ac6290"
      },
      "outputs": [],
      "source": []
    }
  ],
  "metadata": {
    "accelerator": "GPU",
    "colab": {
      "gpuType": "T4",
      "machine_shape": "hm",
      "provenance": []
    },
    "kernelspec": {
      "display_name": "Python 3",
      "name": "python3"
    },
    "language_info": {
      "name": "python"
    }
  },
  "nbformat": 4,
  "nbformat_minor": 5
}